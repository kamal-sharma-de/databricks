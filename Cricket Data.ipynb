{
 "cells": [
  {
   "cell_type": "code",
   "execution_count": 0,
   "metadata": {
    "application/vnd.databricks.v1+cell": {
     "cellMetadata": {
      "byteLimit": 2048000,
      "implicitDf": true,
      "rowLimit": 10000
     },
     "inputWidgets": {},
     "nuid": "ee71cc5d-5141-4cfe-b65d-d9623638f221",
     "showTitle": false,
     "title": ""
    }
   },
   "outputs": [
    {
     "output_type": "display_data",
     "data": {
      "text/html": [
       "<style scoped>\n",
       "  .table-result-container {\n",
       "    max-height: 300px;\n",
       "    overflow: auto;\n",
       "  }\n",
       "  table, th, td {\n",
       "    border: 1px solid black;\n",
       "    border-collapse: collapse;\n",
       "  }\n",
       "  th, td {\n",
       "    padding: 5px;\n",
       "  }\n",
       "  th {\n",
       "    text-align: left;\n",
       "  }\n",
       "</style><div class='table-result-container'><table class='table-result'><thead style='background-color: white'><tr><th>key</th><th>value</th></tr></thead><tbody><tr><td>spark.databricks.delta.formatCheck.enabled</td><td>false</td></tr></tbody></table></div>"
      ]
     },
     "metadata": {
      "application/vnd.databricks.v1+output": {
       "addedWidgets": {},
       "aggData": [],
       "aggError": "",
       "aggOverflow": false,
       "aggSchema": [],
       "aggSeriesLimitReached": false,
       "aggType": "",
       "arguments": {},
       "columnCustomDisplayInfos": {},
       "data": [
        [
         "spark.databricks.delta.formatCheck.enabled",
         "false"
        ]
       ],
       "datasetInfos": [],
       "dbfsResultPath": null,
       "isJsonSchema": true,
       "metadata": {
        "dataframeName": "_sqldf",
        "executionCount": 2
       },
       "overflow": false,
       "plotOptions": {
        "customPlotOptions": {},
        "displayType": "table",
        "pivotAggregation": null,
        "pivotColumns": null,
        "xColumns": null,
        "yColumns": null
       },
       "removedWidgets": [],
       "schema": [
        {
         "metadata": "{}",
         "name": "key",
         "type": "\"string\""
        },
        {
         "metadata": "{}",
         "name": "value",
         "type": "\"string\""
        }
       ],
       "type": "table"
      }
     },
     "output_type": "display_data"
    }
   ],
   "source": [
    "%sql SET spark.databricks.delta.formatCheck.enabled=false"
   ]
  },
  {
   "cell_type": "code",
   "execution_count": 0,
   "metadata": {
    "application/vnd.databricks.v1+cell": {
     "cellMetadata": {
      "byteLimit": 2048000,
      "rowLimit": 10000
     },
     "inputWidgets": {},
     "nuid": "97b1ae9e-661d-40a1-9f64-7b7f3940287d",
     "showTitle": false,
     "title": ""
    }
   },
   "outputs": [],
   "source": [
    "import urllib.request\n",
    "import zipfile\n",
    "import os\n",
    "\n",
    "# URL of the compressed file\n",
    "url = \"https://cricsheet.org/downloads/all_json.zip\"\n",
    "\n",
    "# Directory to save the downloaded file and extracted files\n",
    "download_dir = \"/tmp/\"\n",
    "\n",
    "# Function to download and extract the zip file\n",
    "def download_and_extract_zip(url, download_dir):\n",
    "    # Download the zip file\n",
    "    zip_file_path = download_dir + \"all_json.zip\"\n",
    "    urllib.request.urlretrieve(url, zip_file_path)\n",
    "    \n",
    "    # Extract the zip file\n",
    "    with zipfile.ZipFile(zip_file_path, 'r') as zip_ref:\n",
    "        zip_ref.extractall(download_dir)\n",
    "    \n",
    "    # Remove the zip file after extraction\n",
    "    os.remove(zip_file_path)\n",
    "\n",
    "# Download and extract the zip file\n",
    "download_and_extract_zip(url, download_dir)\n",
    "\n",
    "# List all files in the extracted directory\n",
    "extracted_files = os.listdir(download_dir)\n"
   ]
  },
  {
   "cell_type": "code",
   "execution_count": 0,
   "metadata": {
    "application/vnd.databricks.v1+cell": {
     "cellMetadata": {
      "byteLimit": 2048000,
      "rowLimit": 10000
     },
     "inputWidgets": {},
     "nuid": "365dd751-e3c5-49f1-a23b-ad5d681e06e4",
     "showTitle": false,
     "title": ""
    }
   },
   "outputs": [
    {
     "output_type": "stream",
     "name": "stdout",
     "output_type": "stream",
     "text": [
      "Extracted files:\nfile:///tmp/1252671.json\n"
     ]
    },
    {
     "output_type": "display_data",
     "data": {
      "text/html": [
       "<style scoped>\n",
       "  .table-result-container {\n",
       "    max-height: 300px;\n",
       "    overflow: auto;\n",
       "  }\n",
       "  table, th, td {\n",
       "    border: 1px solid black;\n",
       "    border-collapse: collapse;\n",
       "  }\n",
       "  th, td {\n",
       "    padding: 5px;\n",
       "  }\n",
       "  th {\n",
       "    text-align: left;\n",
       "  }\n",
       "</style><div class='table-result-container'><table class='table-result'><thead style='background-color: white'><tr><th>info</th><th>innings</th><th>meta</th></tr></thead><tbody><tr><td>List(5, Manchester, List(2021-07-25), List(6, The Hundred Men's Competition), male, T20, List(List(SJ Davis), List(NA Mallender), List(NJ Llong), List(AG Wharf, SJ O'Shaughnessy)), List(List(6), Manchester Originals), 20, List(MW Parkinson), List(List(Miles Hammond, FH Allen, LS Livingstone, DJ Bell-Drummond, MM Ali, CG Benjamin, CB Cooke, BAC Howell, AF Milne, TG Helm, Imran Tahir), List(PD Salt, JC Buttler, JM Clarke, C Munro, TA Lammonby, CR Brathwaite, CG Harrison, TW Hartley, FJ Klaassen, ST Finn, MW Parkinson)), List(List(350bb1b1, 2e0fcc58, 0bec3a6c, af2c687b, 6755cd5c, 95a15317, f655d740, e342e5fb, 8f938a32, bf74b130, c042b412, acee4cc4, 99b75528, 2eca67f5, 50c6bc2b, bb351c23, 19708692, c88bc84a, 3b5dfcd4, 573fb985, 3d284ca3, bc71b0b2, 4d4fdf4a, ccdd8308, 73f1f6b0, 74a274cc, 22b98d7c)), 2021, club, List(Birmingham Phoenix, Manchester Originals), List(bat, Birmingham Phoenix), Old Trafford, Manchester)</td><td>List(List(List(List(List(List(Miles Hammond, TW Hartley, null, FH Allen, null, List(0, 0, 0), null), List(Miles Hammond, TW Hartley, null, FH Allen, null, List(4, 0, 4), null), List(Miles Hammond, TW Hartley, null, FH Allen, null, List(1, 0, 1), null), List(FH Allen, TW Hartley, null, Miles Hammond, null, List(1, 0, 1), null), List(Miles Hammond, TW Hartley, null, FH Allen, null, List(0, 0, 0), null)), 0), List(List(List(Miles Hammond, FJ Klaassen, List(null, null, null, 1), FH Allen, null, List(0, 1, 1), null), List(Miles Hammond, FJ Klaassen, null, FH Allen, null, List(1, 0, 1), null), List(FH Allen, FJ Klaassen, List(null, null, null, 1), Miles Hammond, null, List(0, 1, 1), null), List(FH Allen, FJ Klaassen, null, Miles Hammond, null, List(0, 0, 0), List(List(List(List(JC Buttler)), caught, FH Allen))), List(LS Livingstone, FJ Klaassen, null, Miles Hammond, null, List(0, 0, 0), null), List(LS Livingstone, FJ Klaassen, null, Miles Hammond, null, List(0, 0, 0), null), List(LS Livingstone, FJ Klaassen, null, Miles Hammond, null, List(4, 0, 4), null)), 1), List(List(List(Miles Hammond, TW Hartley, null, LS Livingstone, null, List(0, 0, 0), null), List(Miles Hammond, TW Hartley, null, LS Livingstone, null, List(4, 0, 4), null), List(Miles Hammond, TW Hartley, null, LS Livingstone, null, List(1, 0, 1), null), List(LS Livingstone, TW Hartley, null, Miles Hammond, null, List(0, 0, 0), null), List(LS Livingstone, TW Hartley, null, Miles Hammond, null, List(1, 0, 1), null)), 2), List(List(List(Miles Hammond, ST Finn, null, LS Livingstone, null, List(2, 0, 2), null), List(Miles Hammond, ST Finn, null, LS Livingstone, null, List(0, 0, 0), List(List(List(List(TA Lammonby)), caught, Miles Hammond))), List(DJ Bell-Drummond, ST Finn, null, LS Livingstone, null, List(0, 0, 0), null), List(DJ Bell-Drummond, ST Finn, null, LS Livingstone, null, List(0, 0, 0), null), List(DJ Bell-Drummond, ST Finn, null, LS Livingstone, null, List(4, 0, 4), null)), 3), List(List(List(LS Livingstone, FJ Klaassen, null, DJ Bell-Drummond, null, List(2, 0, 2), null), List(LS Livingstone, FJ Klaassen, null, DJ Bell-Drummond, null, List(1, 0, 1), null), List(DJ Bell-Drummond, FJ Klaassen, null, LS Livingstone, null, List(1, 0, 1), null), List(LS Livingstone, FJ Klaassen, null, DJ Bell-Drummond, null, List(0, 0, 0), null), List(LS Livingstone, FJ Klaassen, null, DJ Bell-Drummond, null, List(4, 0, 4), null)), 4), List(List(List(LS Livingstone, MW Parkinson, null, DJ Bell-Drummond, null, List(0, 0, 0), List(List(List(List(FJ Klaassen)), caught, LS Livingstone))), List(MM Ali, MW Parkinson, null, DJ Bell-Drummond, null, List(1, 0, 1), null), List(DJ Bell-Drummond, MW Parkinson, null, MM Ali, null, List(1, 0, 1), null), List(MM Ali, MW Parkinson, null, DJ Bell-Drummond, null, List(0, 0, 0), null), List(MM Ali, MW Parkinson, null, DJ Bell-Drummond, null, List(0, 0, 0), null)), 5), List(List(List(DJ Bell-Drummond, CG Harrison, null, MM Ali, null, List(1, 0, 1), null), List(MM Ali, CG Harrison, null, DJ Bell-Drummond, null, List(1, 0, 1), null), List(DJ Bell-Drummond, CG Harrison, null, MM Ali, null, List(1, 0, 1), null), List(MM Ali, CG Harrison, null, DJ Bell-Drummond, null, List(1, 0, 1), null), List(DJ Bell-Drummond, CG Harrison, null, MM Ali, null, List(0, 0, 0), null)), 6), List(List(List(DJ Bell-Drummond, TW Hartley, null, MM Ali, null, List(1, 0, 1), null), List(MM Ali, TW Hartley, List(null, 1, null, null), DJ Bell-Drummond, null, List(0, 1, 1), null), List(DJ Bell-Drummond, TW Hartley, null, MM Ali, null, List(1, 0, 1), null), List(MM Ali, TW Hartley, null, DJ Bell-Drummond, null, List(1, 0, 1), null), List(DJ Bell-Drummond, TW Hartley, null, MM Ali, null, List(0, 0, 0), null)), 7), List(List(List(MM Ali, MW Parkinson, null, DJ Bell-Drummond, null, List(4, 0, 4), null), List(MM Ali, MW Parkinson, null, DJ Bell-Drummond, null, List(0, 0, 0), null), List(MM Ali, MW Parkinson, null, DJ Bell-Drummond, null, List(1, 0, 1), null), List(DJ Bell-Drummond, MW Parkinson, List(2, null, null, null), MM Ali, null, List(0, 2, 2), null), List(DJ Bell-Drummond, MW Parkinson, null, MM Ali, null, List(1, 0, 1), null)), 8), List(List(List(MM Ali, CG Harrison, null, DJ Bell-Drummond, null, List(2, 0, 2), null), List(MM Ali, CG Harrison, null, DJ Bell-Drummond, null, List(0, 0, 0), null), List(MM Ali, CG Harrison, null, DJ Bell-Drummond, null, List(0, 0, 0), null), List(MM Ali, CG Harrison, null, DJ Bell-Drummond, null, List(2, 0, 2), null), List(MM Ali, CG Harrison, null, DJ Bell-Drummond, null, List(1, 0, 1), null)), 9), List(List(List(MM Ali, CR Brathwaite, null, DJ Bell-Drummond, null, List(1, 0, 1), null), List(DJ Bell-Drummond, CR Brathwaite, null, MM Ali, null, List(1, 0, 1), null), List(MM Ali, CR Brathwaite, null, DJ Bell-Drummond, null, List(0, 0, 0), null), List(MM Ali, CR Brathwaite, null, DJ Bell-Drummond, null, List(0, 0, 0), List(List(List(List(ST Finn)), caught, MM Ali))), List(CG Benjamin, CR Brathwaite, null, DJ Bell-Drummond, null, List(4, 0, 4), null)), 10), List(List(List(CG Benjamin, CG Harrison, null, DJ Bell-Drummond, null, List(2, 0, 2), null), List(CG Benjamin, CG Harrison, List(null, null, 2, null), DJ Bell-Drummond, null, List(0, 2, 2), null), List(CG Benjamin, CG Harrison, null, DJ Bell-Drummond, null, List(1, 0, 1), null), List(DJ Bell-Drummond, CG Harrison, null, CG Benjamin, null, List(0, 0, 0), List(List(null, caught and bowled, DJ Bell-Drummond))), List(CB Cooke, CG Harrison, null, CG Benjamin, null, List(0, 0, 0), null), List(CB Cooke, CG Harrison, null, CG Benjamin, null, List(1, 0, 1), null)), 11), List(List(List(CB Cooke, MW Parkinson, null, CG Benjamin, null, List(1, 0, 1), null), List(CG Benjamin, MW Parkinson, null, CB Cooke, null, List(0, 0, 0), null), List(CG Benjamin, MW Parkinson, null, CB Cooke, null, List(0, 0, 0), null), List(CG Benjamin, MW Parkinson, null, CB Cooke, null, List(0, 0, 0), null), List(CG Benjamin, MW Parkinson, null, CB Cooke, null, List(0, 0, 0), null)), 12), List(List(List(CG Benjamin, TW Hartley, null, CB Cooke, null, List(1, 0, 1), null), List(CB Cooke, TW Hartley, null, CG Benjamin, null, List(2, 0, 2), null), List(CB Cooke, TW Hartley, null, CG Benjamin, null, List(2, 0, 2), null), List(CB Cooke, TW Hartley, null, CG Benjamin, null, List(2, 0, 2), null), List(CB Cooke, TW Hartley, null, CG Benjamin, null, List(0, 0, 0), null)), 13), List(List(List(CG Benjamin, CG Harrison, null, CB Cooke, null, List(1, 0, 1), null), List(CB Cooke, CG Harrison, null, CG Benjamin, null, List(2, 0, 2), null), List(CB Cooke, CG Harrison, List(null, 1, null, null), CG Benjamin, null, List(0, 1, 1), null), List(CG Benjamin, CG Harrison, null, CB Cooke, null, List(0, 0, 0), List(List(List(List(PD Salt)), caught, CG Benjamin))), List(BAC Howell, CG Harrison, null, CB Cooke, null, List(0, 0, 0), null)), 14), List(List(List(BAC Howell, CR Brathwaite, null, CB Cooke, null, List(0, 0, 0), List(List(List(List(JC Buttler)), caught, BAC Howell))), List(AF Milne, CR Brathwaite, null, CB Cooke, null, List(1, 0, 1), null), List(CB Cooke, CR Brathwaite, null, AF Milne, null, List(0, 0, 0), null), List(CB Cooke, CR Brathwaite, null, AF Milne, null, List(1, 0, 1), null), List(AF Milne, CR Brathwaite, List(null, null, null, 1), CB Cooke, null, List(0, 1, 1), null), List(AF Milne, CR Brathwaite, null, CB Cooke, null, List(4, 0, 4), null)), 15), List(List(List(CB Cooke, MW Parkinson, null, AF Milne, null, List(0, 0, 0), List(List(null, bowled, CB Cooke))), List(TG Helm, MW Parkinson, null, AF Milne, null, List(0, 0, 0), null), List(TG Helm, MW Parkinson, null, AF Milne, null, List(0, 0, 0), List(List(List(List(C Munro)), caught, TG Helm))), List(Imran Tahir, MW Parkinson, null, AF Milne, List(Imran Tahir, Manchester Originals, upheld, AG Wharf), List(0, 0, 0), List(List(null, lbw, Imran Tahir)))), 16)), List(List(0.1, 4.5, mandatory)), null, Birmingham Phoenix), List(List(List(List(List(PD Salt, Imran Tahir, null, JC Buttler, null, List(0, 0, 0), null), List(PD Salt, Imran Tahir, null, JC Buttler, null, List(4, 0, 4), null), List(PD Salt, Imran Tahir, null, JC Buttler, null, List(1, 0, 1), null), List(JC Buttler, Imran Tahir, null, PD Salt, null, List(0, 0, 0), null), List(JC Buttler, Imran Tahir, null, PD Salt, null, List(2, 0, 2), null)), 0), List(List(List(JC Buttler, AF Milne, null, PD Salt, null, List(0, 0, 0), null), List(JC Buttler, AF Milne, null, PD Salt, List(JC Buttler, Birmingham Phoenix, struck down, SJ O'Shaughnessy), List(0, 0, 0), null), List(JC Buttler, AF Milne, List(null, 1, null, null), PD Salt, null, List(0, 1, 1), null), List(PD Salt, AF Milne, null, JC Buttler, null, List(1, 0, 1), null), List(JC Buttler, AF Milne, null, PD Salt, null, List(4, 0, 4), null)), 1), List(List(List(PD Salt, MM Ali, null, JC Buttler, null, List(4, 0, 4), null), List(PD Salt, MM Ali, null, JC Buttler, null, List(1, 0, 1), null), List(JC Buttler, MM Ali, List(null, null, null, 2), PD Salt, null, List(0, 2, 2), null), List(PD Salt, MM Ali, null, JC Buttler, null, List(2, 0, 2), null), List(PD Salt, MM Ali, null, JC Buttler, null, List(1, 0, 1), null), List(JC Buttler, MM Ali, List(null, 1, null, null), PD Salt, null, List(0, 1, 1), null)), 2), List(List(List(PD Salt, Imran Tahir, null, JC Buttler, null, List(4, 0, 4), null), List(PD Salt, Imran Tahir, null, JC Buttler, null, List(4, 0, 4), null), List(PD Salt, Imran Tahir, null, JC Buttler, null, List(0, 0, 0), List(List(null, bowled, PD Salt))), List(JM Clarke, Imran Tahir, null, JC Buttler, null, List(0, 0, 0), null), List(JM Clarke, Imran Tahir, null, JC Buttler, null, List(0, 0, 0), null)), 3), List(List(List(JC Buttler, Imran Tahir, null, JM Clarke, null, List(0, 0, 0), null), List(JC Buttler, Imran Tahir, null, JM Clarke, null, List(4, 0, 4), null), List(JC Buttler, Imran Tahir, null, JM Clarke, null, List(1, 0, 1), null), List(JM Clarke, Imran Tahir, null, JC Buttler, null, List(4, 0, 4), null), List(JM Clarke, Imran Tahir, null, JC Buttler, null, List(1, 0, 1), null)), 4), List(List(List(JC Buttler, LS Livingstone, null, JM Clarke, null, List(0, 0, 0), null), List(JC Buttler, LS Livingstone, null, JM Clarke, null, List(0, 0, 0), null), List(JC Buttler, LS Livingstone, null, JM Clarke, null, List(4, 0, 4), null), List(JC Buttler, LS Livingstone, null, JM Clarke, null, List(1, 0, 1), null), List(JM Clarke, LS Livingstone, null, JC Buttler, null, List(1, 0, 1), null)), 5), List(List(List(JM Clarke, BAC Howell, null, JC Buttler, null, List(0, 0, 0), null), List(JM Clarke, BAC Howell, null, JC Buttler, null, List(0, 0, 0), null), List(JM Clarke, BAC Howell, null, JC Buttler, null, List(0, 0, 0), List(List(null, bowled, JM Clarke))), List(C Munro, BAC Howell, null, JC Buttler, null, List(4, 0, 4), null), List(C Munro, BAC Howell, null, JC Buttler, null, List(1, 0, 1), null)), 6), List(List(List(JC Buttler, BAC Howell, null, C Munro, null, List(0, 0, 0), null), List(JC Buttler, BAC Howell, null, C Munro, null, List(1, 0, 1), null), List(C Munro, BAC Howell, null, JC Buttler, null, List(1, 0, 1), null), List(JC Buttler, BAC Howell, null, C Munro, null, List(1, 0, 1), null), List(C Munro, BAC Howell, null, JC Buttler, null, List(1, 0, 1), null)), 7), List(List(List(C Munro, MM Ali, null, JC Buttler, null, List(0, 0, 0), null), List(C Munro, MM Ali, null, JC Buttler, null, List(0, 0, 0), List(List(List(List(CB Cooke)), stumped, C Munro))), List(TA Lammonby, MM Ali, null, JC Buttler, null, List(0, 0, 0), null), List(TA Lammonby, MM Ali, null, JC Buttler, null, List(0, 0, 0), null), List(TA Lammonby, MM Ali, null, JC Buttler, null, List(0, 0, 0), null)), 8), List(List(List(TA Lammonby, MM Ali, null, JC Buttler, null, List(0, 0, 0), null), List(TA Lammonby, MM Ali, null, JC Buttler, null, List(0, 0, 0), null), List(TA Lammonby, MM Ali, null, JC Buttler, null, List(1, 0, 1), null), List(JC Buttler, MM Ali, null, TA Lammonby, null, List(1, 0, 1), null), List(TA Lammonby, MM Ali, null, JC Buttler, null, List(1, 0, 1), null)), 9), List(List(List(TA Lammonby, LS Livingstone, null, JC Buttler, null, List(1, 0, 1), null), List(JC Buttler, LS Livingstone, null, TA Lammonby, null, List(4, 0, 4), null), List(JC Buttler, LS Livingstone, null, TA Lammonby, null, List(1, 0, 1), null), List(TA Lammonby, LS Livingstone, null, JC Buttler, null, List(4, 0, 4), null), List(TA Lammonby, LS Livingstone, null, JC Buttler, null, List(0, 0, 0), null)), 10), List(List(List(TA Lammonby, Imran Tahir, null, JC Buttler, null, List(1, 0, 1), null), List(JC Buttler, Imran Tahir, null, TA Lammonby, null, List(2, 0, 2), null), List(JC Buttler, Imran Tahir, null, TA Lammonby, null, List(1, 0, 1), null), List(TA Lammonby, Imran Tahir, null, JC Buttler, null, List(1, 0, 1), null), List(JC Buttler, Imran Tahir, null, TA Lammonby, null, List(1, 0, 1), null)), 11), List(List(List(JC Buttler, MM Ali, null, TA Lammonby, null, List(1, 0, 1), null), List(TA Lammonby, MM Ali, null, JC Buttler, null, List(1, 0, 1), null), List(JC Buttler, MM Ali, null, TA Lammonby, null, List(0, 0, 0), null), List(JC Buttler, MM Ali, null, TA Lammonby, null, List(0, 0, 0), null), List(JC Buttler, MM Ali, null, TA Lammonby, null, List(0, 0, 0), null)), 12), List(List(List(JC Buttler, BAC Howell, null, TA Lammonby, null, List(0, 0, 0), null), List(JC Buttler, BAC Howell, null, TA Lammonby, null, List(0, 0, 0), null), List(JC Buttler, BAC Howell, null, TA Lammonby, null, List(1, 0, 1), null), List(TA Lammonby, BAC Howell, null, JC Buttler, null, List(4, 0, 4), null), List(TA Lammonby, BAC Howell, null, JC Buttler, null, List(2, 0, 2), null)), 13), List(List(List(JC Buttler, LS Livingstone, null, TA Lammonby, null, List(0, 0, 0), List(List(null, bowled, JC Buttler))), List(CR Brathwaite, LS Livingstone, null, TA Lammonby, null, List(0, 0, 0), null), List(CR Brathwaite, LS Livingstone, null, TA Lammonby, null, List(4, 0, 4), null)), 14)), List(List(0.1, 4.5, mandatory)), List(20, 88), Manchester Originals))</td><td>List(2021-07-25, 1.1.0, 2)</td></tr></tbody></table></div>"
      ]
     },
     "metadata": {
      "application/vnd.databricks.v1+output": {
       "addedWidgets": {},
       "aggData": [],
       "aggError": "",
       "aggOverflow": false,
       "aggSchema": [],
       "aggSeriesLimitReached": false,
       "aggType": "",
       "arguments": {},
       "columnCustomDisplayInfos": {},
       "data": [
        [
         [
          5,
          "Manchester",
          [
           "2021-07-25"
          ],
          [
           6,
           "The Hundred Men's Competition"
          ],
          "male",
          "T20",
          [
           [
            "SJ Davis"
           ],
           [
            "NA Mallender"
           ],
           [
            "NJ Llong"
           ],
           [
            "AG Wharf",
            "SJ O'Shaughnessy"
           ]
          ],
          [
           [
            6
           ],
           "Manchester Originals"
          ],
          20,
          [
           "MW Parkinson"
          ],
          [
           [
            "Miles Hammond",
            "FH Allen",
            "LS Livingstone",
            "DJ Bell-Drummond",
            "MM Ali",
            "CG Benjamin",
            "CB Cooke",
            "BAC Howell",
            "AF Milne",
            "TG Helm",
            "Imran Tahir"
           ],
           [
            "PD Salt",
            "JC Buttler",
            "JM Clarke",
            "C Munro",
            "TA Lammonby",
            "CR Brathwaite",
            "CG Harrison",
            "TW Hartley",
            "FJ Klaassen",
            "ST Finn",
            "MW Parkinson"
           ]
          ],
          [
           [
            "350bb1b1",
            "2e0fcc58",
            "0bec3a6c",
            "af2c687b",
            "6755cd5c",
            "95a15317",
            "f655d740",
            "e342e5fb",
            "8f938a32",
            "bf74b130",
            "c042b412",
            "acee4cc4",
            "99b75528",
            "2eca67f5",
            "50c6bc2b",
            "bb351c23",
            "19708692",
            "c88bc84a",
            "3b5dfcd4",
            "573fb985",
            "3d284ca3",
            "bc71b0b2",
            "4d4fdf4a",
            "ccdd8308",
            "73f1f6b0",
            "74a274cc",
            "22b98d7c"
           ]
          ],
          "2021",
          "club",
          [
           "Birmingham Phoenix",
           "Manchester Originals"
          ],
          [
           "bat",
           "Birmingham Phoenix"
          ],
          "Old Trafford, Manchester"
         ],
         [
          [
           [
            [
             [
              [
               "Miles Hammond",
               "TW Hartley",
               null,
               "FH Allen",
               null,
               [
                0,
                0,
                0
               ],
               null
              ],
              [
               "Miles Hammond",
               "TW Hartley",
               null,
               "FH Allen",
               null,
               [
                4,
                0,
                4
               ],
               null
              ],
              [
               "Miles Hammond",
               "TW Hartley",
               null,
               "FH Allen",
               null,
               [
                1,
                0,
                1
               ],
               null
              ],
              [
               "FH Allen",
               "TW Hartley",
               null,
               "Miles Hammond",
               null,
               [
                1,
                0,
                1
               ],
               null
              ],
              [
               "Miles Hammond",
               "TW Hartley",
               null,
               "FH Allen",
               null,
               [
                0,
                0,
                0
               ],
               null
              ]
             ],
             0
            ],
            [
             [
              [
               "Miles Hammond",
               "FJ Klaassen",
               [
                null,
                null,
                null,
                1
               ],
               "FH Allen",
               null,
               [
                0,
                1,
                1
               ],
               null
              ],
              [
               "Miles Hammond",
               "FJ Klaassen",
               null,
               "FH Allen",
               null,
               [
                1,
                0,
                1
               ],
               null
              ],
              [
               "FH Allen",
               "FJ Klaassen",
               [
                null,
                null,
                null,
                1
               ],
               "Miles Hammond",
               null,
               [
                0,
                1,
                1
               ],
               null
              ],
              [
               "FH Allen",
               "FJ Klaassen",
               null,
               "Miles Hammond",
               null,
               [
                0,
                0,
                0
               ],
               [
                [
                 [
                  [
                   "JC Buttler"
                  ]
                 ],
                 "caught",
                 "FH Allen"
                ]
               ]
              ],
              [
               "LS Livingstone",
               "FJ Klaassen",
               null,
               "Miles Hammond",
               null,
               [
                0,
                0,
                0
               ],
               null
              ],
              [
               "LS Livingstone",
               "FJ Klaassen",
               null,
               "Miles Hammond",
               null,
               [
                0,
                0,
                0
               ],
               null
              ],
              [
               "LS Livingstone",
               "FJ Klaassen",
               null,
               "Miles Hammond",
               null,
               [
                4,
                0,
                4
               ],
               null
              ]
             ],
             1
            ],
            [
             [
              [
               "Miles Hammond",
               "TW Hartley",
               null,
               "LS Livingstone",
               null,
               [
                0,
                0,
                0
               ],
               null
              ],
              [
               "Miles Hammond",
               "TW Hartley",
               null,
               "LS Livingstone",
               null,
               [
                4,
                0,
                4
               ],
               null
              ],
              [
               "Miles Hammond",
               "TW Hartley",
               null,
               "LS Livingstone",
               null,
               [
                1,
                0,
                1
               ],
               null
              ],
              [
               "LS Livingstone",
               "TW Hartley",
               null,
               "Miles Hammond",
               null,
               [
                0,
                0,
                0
               ],
               null
              ],
              [
               "LS Livingstone",
               "TW Hartley",
               null,
               "Miles Hammond",
               null,
               [
                1,
                0,
                1
               ],
               null
              ]
             ],
             2
            ],
            [
             [
              [
               "Miles Hammond",
               "ST Finn",
               null,
               "LS Livingstone",
               null,
               [
                2,
                0,
                2
               ],
               null
              ],
              [
               "Miles Hammond",
               "ST Finn",
               null,
               "LS Livingstone",
               null,
               [
                0,
                0,
                0
               ],
               [
                [
                 [
                  [
                   "TA Lammonby"
                  ]
                 ],
                 "caught",
                 "Miles Hammond"
                ]
               ]
              ],
              [
               "DJ Bell-Drummond",
               "ST Finn",
               null,
               "LS Livingstone",
               null,
               [
                0,
                0,
                0
               ],
               null
              ],
              [
               "DJ Bell-Drummond",
               "ST Finn",
               null,
               "LS Livingstone",
               null,
               [
                0,
                0,
                0
               ],
               null
              ],
              [
               "DJ Bell-Drummond",
               "ST Finn",
               null,
               "LS Livingstone",
               null,
               [
                4,
                0,
                4
               ],
               null
              ]
             ],
             3
            ],
            [
             [
              [
               "LS Livingstone",
               "FJ Klaassen",
               null,
               "DJ Bell-Drummond",
               null,
               [
                2,
                0,
                2
               ],
               null
              ],
              [
               "LS Livingstone",
               "FJ Klaassen",
               null,
               "DJ Bell-Drummond",
               null,
               [
                1,
                0,
                1
               ],
               null
              ],
              [
               "DJ Bell-Drummond",
               "FJ Klaassen",
               null,
               "LS Livingstone",
               null,
               [
                1,
                0,
                1
               ],
               null
              ],
              [
               "LS Livingstone",
               "FJ Klaassen",
               null,
               "DJ Bell-Drummond",
               null,
               [
                0,
                0,
                0
               ],
               null
              ],
              [
               "LS Livingstone",
               "FJ Klaassen",
               null,
               "DJ Bell-Drummond",
               null,
               [
                4,
                0,
                4
               ],
               null
              ]
             ],
             4
            ],
            [
             [
              [
               "LS Livingstone",
               "MW Parkinson",
               null,
               "DJ Bell-Drummond",
               null,
               [
                0,
                0,
                0
               ],
               [
                [
                 [
                  [
                   "FJ Klaassen"
                  ]
                 ],
                 "caught",
                 "LS Livingstone"
                ]
               ]
              ],
              [
               "MM Ali",
               "MW Parkinson",
               null,
               "DJ Bell-Drummond",
               null,
               [
                1,
                0,
                1
               ],
               null
              ],
              [
               "DJ Bell-Drummond",
               "MW Parkinson",
               null,
               "MM Ali",
               null,
               [
                1,
                0,
                1
               ],
               null
              ],
              [
               "MM Ali",
               "MW Parkinson",
               null,
               "DJ Bell-Drummond",
               null,
               [
                0,
                0,
                0
               ],
               null
              ],
              [
               "MM Ali",
               "MW Parkinson",
               null,
               "DJ Bell-Drummond",
               null,
               [
                0,
                0,
                0
               ],
               null
              ]
             ],
             5
            ],
            [
             [
              [
               "DJ Bell-Drummond",
               "CG Harrison",
               null,
               "MM Ali",
               null,
               [
                1,
                0,
                1
               ],
               null
              ],
              [
               "MM Ali",
               "CG Harrison",
               null,
               "DJ Bell-Drummond",
               null,
               [
                1,
                0,
                1
               ],
               null
              ],
              [
               "DJ Bell-Drummond",
               "CG Harrison",
               null,
               "MM Ali",
               null,
               [
                1,
                0,
                1
               ],
               null
              ],
              [
               "MM Ali",
               "CG Harrison",
               null,
               "DJ Bell-Drummond",
               null,
               [
                1,
                0,
                1
               ],
               null
              ],
              [
               "DJ Bell-Drummond",
               "CG Harrison",
               null,
               "MM Ali",
               null,
               [
                0,
                0,
                0
               ],
               null
              ]
             ],
             6
            ],
            [
             [
              [
               "DJ Bell-Drummond",
               "TW Hartley",
               null,
               "MM Ali",
               null,
               [
                1,
                0,
                1
               ],
               null
              ],
              [
               "MM Ali",
               "TW Hartley",
               [
                null,
                1,
                null,
                null
               ],
               "DJ Bell-Drummond",
               null,
               [
                0,
                1,
                1
               ],
               null
              ],
              [
               "DJ Bell-Drummond",
               "TW Hartley",
               null,
               "MM Ali",
               null,
               [
                1,
                0,
                1
               ],
               null
              ],
              [
               "MM Ali",
               "TW Hartley",
               null,
               "DJ Bell-Drummond",
               null,
               [
                1,
                0,
                1
               ],
               null
              ],
              [
               "DJ Bell-Drummond",
               "TW Hartley",
               null,
               "MM Ali",
               null,
               [
                0,
                0,
                0
               ],
               null
              ]
             ],
             7
            ],
            [
             [
              [
               "MM Ali",
               "MW Parkinson",
               null,
               "DJ Bell-Drummond",
               null,
               [
                4,
                0,
                4
               ],
               null
              ],
              [
               "MM Ali",
               "MW Parkinson",
               null,
               "DJ Bell-Drummond",
               null,
               [
                0,
                0,
                0
               ],
               null
              ],
              [
               "MM Ali",
               "MW Parkinson",
               null,
               "DJ Bell-Drummond",
               null,
               [
                1,
                0,
                1
               ],
               null
              ],
              [
               "DJ Bell-Drummond",
               "MW Parkinson",
               [
                2,
                null,
                null,
                null
               ],
               "MM Ali",
               null,
               [
                0,
                2,
                2
               ],
               null
              ],
              [
               "DJ Bell-Drummond",
               "MW Parkinson",
               null,
               "MM Ali",
               null,
               [
                1,
                0,
                1
               ],
               null
              ]
             ],
             8
            ],
            [
             [
              [
               "MM Ali",
               "CG Harrison",
               null,
               "DJ Bell-Drummond",
               null,
               [
                2,
                0,
                2
               ],
               null
              ],
              [
               "MM Ali",
               "CG Harrison",
               null,
               "DJ Bell-Drummond",
               null,
               [
                0,
                0,
                0
               ],
               null
              ],
              [
               "MM Ali",
               "CG Harrison",
               null,
               "DJ Bell-Drummond",
               null,
               [
                0,
                0,
                0
               ],
               null
              ],
              [
               "MM Ali",
               "CG Harrison",
               null,
               "DJ Bell-Drummond",
               null,
               [
                2,
                0,
                2
               ],
               null
              ],
              [
               "MM Ali",
               "CG Harrison",
               null,
               "DJ Bell-Drummond",
               null,
               [
                1,
                0,
                1
               ],
               null
              ]
             ],
             9
            ],
            [
             [
              [
               "MM Ali",
               "CR Brathwaite",
               null,
               "DJ Bell-Drummond",
               null,
               [
                1,
                0,
                1
               ],
               null
              ],
              [
               "DJ Bell-Drummond",
               "CR Brathwaite",
               null,
               "MM Ali",
               null,
               [
                1,
                0,
                1
               ],
               null
              ],
              [
               "MM Ali",
               "CR Brathwaite",
               null,
               "DJ Bell-Drummond",
               null,
               [
                0,
                0,
                0
               ],
               null
              ],
              [
               "MM Ali",
               "CR Brathwaite",
               null,
               "DJ Bell-Drummond",
               null,
               [
                0,
                0,
                0
               ],
               [
                [
                 [
                  [
                   "ST Finn"
                  ]
                 ],
                 "caught",
                 "MM Ali"
                ]
               ]
              ],
              [
               "CG Benjamin",
               "CR Brathwaite",
               null,
               "DJ Bell-Drummond",
               null,
               [
                4,
                0,
                4
               ],
               null
              ]
             ],
             10
            ],
            [
             [
              [
               "CG Benjamin",
               "CG Harrison",
               null,
               "DJ Bell-Drummond",
               null,
               [
                2,
                0,
                2
               ],
               null
              ],
              [
               "CG Benjamin",
               "CG Harrison",
               [
                null,
                null,
                2,
                null
               ],
               "DJ Bell-Drummond",
               null,
               [
                0,
                2,
                2
               ],
               null
              ],
              [
               "CG Benjamin",
               "CG Harrison",
               null,
               "DJ Bell-Drummond",
               null,
               [
                1,
                0,
                1
               ],
               null
              ],
              [
               "DJ Bell-Drummond",
               "CG Harrison",
               null,
               "CG Benjamin",
               null,
               [
                0,
                0,
                0
               ],
               [
                [
                 null,
                 "caught and bowled",
                 "DJ Bell-Drummond"
                ]
               ]
              ],
              [
               "CB Cooke",
               "CG Harrison",
               null,
               "CG Benjamin",
               null,
               [
                0,
                0,
                0
               ],
               null
              ],
              [
               "CB Cooke",
               "CG Harrison",
               null,
               "CG Benjamin",
               null,
               [
                1,
                0,
                1
               ],
               null
              ]
             ],
             11
            ],
            [
             [
              [
               "CB Cooke",
               "MW Parkinson",
               null,
               "CG Benjamin",
               null,
               [
                1,
                0,
                1
               ],
               null
              ],
              [
               "CG Benjamin",
               "MW Parkinson",
               null,
               "CB Cooke",
               null,
               [
                0,
                0,
                0
               ],
               null
              ],
              [
               "CG Benjamin",
               "MW Parkinson",
               null,
               "CB Cooke",
               null,
               [
                0,
                0,
                0
               ],
               null
              ],
              [
               "CG Benjamin",
               "MW Parkinson",
               null,
               "CB Cooke",
               null,
               [
                0,
                0,
                0
               ],
               null
              ],
              [
               "CG Benjamin",
               "MW Parkinson",
               null,
               "CB Cooke",
               null,
               [
                0,
                0,
                0
               ],
               null
              ]
             ],
             12
            ],
            [
             [
              [
               "CG Benjamin",
               "TW Hartley",
               null,
               "CB Cooke",
               null,
               [
                1,
                0,
                1
               ],
               null
              ],
              [
               "CB Cooke",
               "TW Hartley",
               null,
               "CG Benjamin",
               null,
               [
                2,
                0,
                2
               ],
               null
              ],
              [
               "CB Cooke",
               "TW Hartley",
               null,
               "CG Benjamin",
               null,
               [
                2,
                0,
                2
               ],
               null
              ],
              [
               "CB Cooke",
               "TW Hartley",
               null,
               "CG Benjamin",
               null,
               [
                2,
                0,
                2
               ],
               null
              ],
              [
               "CB Cooke",
               "TW Hartley",
               null,
               "CG Benjamin",
               null,
               [
                0,
                0,
                0
               ],
               null
              ]
             ],
             13
            ],
            [
             [
              [
               "CG Benjamin",
               "CG Harrison",
               null,
               "CB Cooke",
               null,
               [
                1,
                0,
                1
               ],
               null
              ],
              [
               "CB Cooke",
               "CG Harrison",
               null,
               "CG Benjamin",
               null,
               [
                2,
                0,
                2
               ],
               null
              ],
              [
               "CB Cooke",
               "CG Harrison",
               [
                null,
                1,
                null,
                null
               ],
               "CG Benjamin",
               null,
               [
                0,
                1,
                1
               ],
               null
              ],
              [
               "CG Benjamin",
               "CG Harrison",
               null,
               "CB Cooke",
               null,
               [
                0,
                0,
                0
               ],
               [
                [
                 [
                  [
                   "PD Salt"
                  ]
                 ],
                 "caught",
                 "CG Benjamin"
                ]
               ]
              ],
              [
               "BAC Howell",
               "CG Harrison",
               null,
               "CB Cooke",
               null,
               [
                0,
                0,
                0
               ],
               null
              ]
             ],
             14
            ],
            [
             [
              [
               "BAC Howell",
               "CR Brathwaite",
               null,
               "CB Cooke",
               null,
               [
                0,
                0,
                0
               ],
               [
                [
                 [
                  [
                   "JC Buttler"
                  ]
                 ],
                 "caught",
                 "BAC Howell"
                ]
               ]
              ],
              [
               "AF Milne",
               "CR Brathwaite",
               null,
               "CB Cooke",
               null,
               [
                1,
                0,
                1
               ],
               null
              ],
              [
               "CB Cooke",
               "CR Brathwaite",
               null,
               "AF Milne",
               null,
               [
                0,
                0,
                0
               ],
               null
              ],
              [
               "CB Cooke",
               "CR Brathwaite",
               null,
               "AF Milne",
               null,
               [
                1,
                0,
                1
               ],
               null
              ],
              [
               "AF Milne",
               "CR Brathwaite",
               [
                null,
                null,
                null,
                1
               ],
               "CB Cooke",
               null,
               [
                0,
                1,
                1
               ],
               null
              ],
              [
               "AF Milne",
               "CR Brathwaite",
               null,
               "CB Cooke",
               null,
               [
                4,
                0,
                4
               ],
               null
              ]
             ],
             15
            ],
            [
             [
              [
               "CB Cooke",
               "MW Parkinson",
               null,
               "AF Milne",
               null,
               [
                0,
                0,
                0
               ],
               [
                [
                 null,
                 "bowled",
                 "CB Cooke"
                ]
               ]
              ],
              [
               "TG Helm",
               "MW Parkinson",
               null,
               "AF Milne",
               null,
               [
                0,
                0,
                0
               ],
               null
              ],
              [
               "TG Helm",
               "MW Parkinson",
               null,
               "AF Milne",
               null,
               [
                0,
                0,
                0
               ],
               [
                [
                 [
                  [
                   "C Munro"
                  ]
                 ],
                 "caught",
                 "TG Helm"
                ]
               ]
              ],
              [
               "Imran Tahir",
               "MW Parkinson",
               null,
               "AF Milne",
               [
                "Imran Tahir",
                "Manchester Originals",
                "upheld",
                "AG Wharf"
               ],
               [
                0,
                0,
                0
               ],
               [
                [
                 null,
                 "lbw",
                 "Imran Tahir"
                ]
               ]
              ]
             ],
             16
            ]
           ],
           [
            [
             0.1,
             4.5,
             "mandatory"
            ]
           ],
           null,
           "Birmingham Phoenix"
          ],
          [
           [
            [
             [
              [
               "PD Salt",
               "Imran Tahir",
               null,
               "JC Buttler",
               null,
               [
                0,
                0,
                0
               ],
               null
              ],
              [
               "PD Salt",
               "Imran Tahir",
               null,
               "JC Buttler",
               null,
               [
                4,
                0,
                4
               ],
               null
              ],
              [
               "PD Salt",
               "Imran Tahir",
               null,
               "JC Buttler",
               null,
               [
                1,
                0,
                1
               ],
               null
              ],
              [
               "JC Buttler",
               "Imran Tahir",
               null,
               "PD Salt",
               null,
               [
                0,
                0,
                0
               ],
               null
              ],
              [
               "JC Buttler",
               "Imran Tahir",
               null,
               "PD Salt",
               null,
               [
                2,
                0,
                2
               ],
               null
              ]
             ],
             0
            ],
            [
             [
              [
               "JC Buttler",
               "AF Milne",
               null,
               "PD Salt",
               null,
               [
                0,
                0,
                0
               ],
               null
              ],
              [
               "JC Buttler",
               "AF Milne",
               null,
               "PD Salt",
               [
                "JC Buttler",
                "Birmingham Phoenix",
                "struck down",
                "SJ O'Shaughnessy"
               ],
               [
                0,
                0,
                0
               ],
               null
              ],
              [
               "JC Buttler",
               "AF Milne",
               [
                null,
                1,
                null,
                null
               ],
               "PD Salt",
               null,
               [
                0,
                1,
                1
               ],
               null
              ],
              [
               "PD Salt",
               "AF Milne",
               null,
               "JC Buttler",
               null,
               [
                1,
                0,
                1
               ],
               null
              ],
              [
               "JC Buttler",
               "AF Milne",
               null,
               "PD Salt",
               null,
               [
                4,
                0,
                4
               ],
               null
              ]
             ],
             1
            ],
            [
             [
              [
               "PD Salt",
               "MM Ali",
               null,
               "JC Buttler",
               null,
               [
                4,
                0,
                4
               ],
               null
              ],
              [
               "PD Salt",
               "MM Ali",
               null,
               "JC Buttler",
               null,
               [
                1,
                0,
                1
               ],
               null
              ],
              [
               "JC Buttler",
               "MM Ali",
               [
                null,
                null,
                null,
                2
               ],
               "PD Salt",
               null,
               [
                0,
                2,
                2
               ],
               null
              ],
              [
               "PD Salt",
               "MM Ali",
               null,
               "JC Buttler",
               null,
               [
                2,
                0,
                2
               ],
               null
              ],
              [
               "PD Salt",
               "MM Ali",
               null,
               "JC Buttler",
               null,
               [
                1,
                0,
                1
               ],
               null
              ],
              [
               "JC Buttler",
               "MM Ali",
               [
                null,
                1,
                null,
                null
               ],
               "PD Salt",
               null,
               [
                0,
                1,
                1
               ],
               null
              ]
             ],
             2
            ],
            [
             [
              [
               "PD Salt",
               "Imran Tahir",
               null,
               "JC Buttler",
               null,
               [
                4,
                0,
                4
               ],
               null
              ],
              [
               "PD Salt",
               "Imran Tahir",
               null,
               "JC Buttler",
               null,
               [
                4,
                0,
                4
               ],
               null
              ],
              [
               "PD Salt",
               "Imran Tahir",
               null,
               "JC Buttler",
               null,
               [
                0,
                0,
                0
               ],
               [
                [
                 null,
                 "bowled",
                 "PD Salt"
                ]
               ]
              ],
              [
               "JM Clarke",
               "Imran Tahir",
               null,
               "JC Buttler",
               null,
               [
                0,
                0,
                0
               ],
               null
              ],
              [
               "JM Clarke",
               "Imran Tahir",
               null,
               "JC Buttler",
               null,
               [
                0,
                0,
                0
               ],
               null
              ]
             ],
             3
            ],
            [
             [
              [
               "JC Buttler",
               "Imran Tahir",
               null,
               "JM Clarke",
               null,
               [
                0,
                0,
                0
               ],
               null
              ],
              [
               "JC Buttler",
               "Imran Tahir",
               null,
               "JM Clarke",
               null,
               [
                4,
                0,
                4
               ],
               null
              ],
              [
               "JC Buttler",
               "Imran Tahir",
               null,
               "JM Clarke",
               null,
               [
                1,
                0,
                1
               ],
               null
              ],
              [
               "JM Clarke",
               "Imran Tahir",
               null,
               "JC Buttler",
               null,
               [
                4,
                0,
                4
               ],
               null
              ],
              [
               "JM Clarke",
               "Imran Tahir",
               null,
               "JC Buttler",
               null,
               [
                1,
                0,
                1
               ],
               null
              ]
             ],
             4
            ],
            [
             [
              [
               "JC Buttler",
               "LS Livingstone",
               null,
               "JM Clarke",
               null,
               [
                0,
                0,
                0
               ],
               null
              ],
              [
               "JC Buttler",
               "LS Livingstone",
               null,
               "JM Clarke",
               null,
               [
                0,
                0,
                0
               ],
               null
              ],
              [
               "JC Buttler",
               "LS Livingstone",
               null,
               "JM Clarke",
               null,
               [
                4,
                0,
                4
               ],
               null
              ],
              [
               "JC Buttler",
               "LS Livingstone",
               null,
               "JM Clarke",
               null,
               [
                1,
                0,
                1
               ],
               null
              ],
              [
               "JM Clarke",
               "LS Livingstone",
               null,
               "JC Buttler",
               null,
               [
                1,
                0,
                1
               ],
               null
              ]
             ],
             5
            ],
            [
             [
              [
               "JM Clarke",
               "BAC Howell",
               null,
               "JC Buttler",
               null,
               [
                0,
                0,
                0
               ],
               null
              ],
              [
               "JM Clarke",
               "BAC Howell",
               null,
               "JC Buttler",
               null,
               [
                0,
                0,
                0
               ],
               null
              ],
              [
               "JM Clarke",
               "BAC Howell",
               null,
               "JC Buttler",
               null,
               [
                0,
                0,
                0
               ],
               [
                [
                 null,
                 "bowled",
                 "JM Clarke"
                ]
               ]
              ],
              [
               "C Munro",
               "BAC Howell",
               null,
               "JC Buttler",
               null,
               [
                4,
                0,
                4
               ],
               null
              ],
              [
               "C Munro",
               "BAC Howell",
               null,
               "JC Buttler",
               null,
               [
                1,
                0,
                1
               ],
               null
              ]
             ],
             6
            ],
            [
             [
              [
               "JC Buttler",
               "BAC Howell",
               null,
               "C Munro",
               null,
               [
                0,
                0,
                0
               ],
               null
              ],
              [
               "JC Buttler",
               "BAC Howell",
               null,
               "C Munro",
               null,
               [
                1,
                0,
                1
               ],
               null
              ],
              [
               "C Munro",
               "BAC Howell",
               null,
               "JC Buttler",
               null,
               [
                1,
                0,
                1
               ],
               null
              ],
              [
               "JC Buttler",
               "BAC Howell",
               null,
               "C Munro",
               null,
               [
                1,
                0,
                1
               ],
               null
              ],
              [
               "C Munro",
               "BAC Howell",
               null,
               "JC Buttler",
               null,
               [
                1,
                0,
                1
               ],
               null
              ]
             ],
             7
            ],
            [
             [
              [
               "C Munro",
               "MM Ali",
               null,
               "JC Buttler",
               null,
               [
                0,
                0,
                0
               ],
               null
              ],
              [
               "C Munro",
               "MM Ali",
               null,
               "JC Buttler",
               null,
               [
                0,
                0,
                0
               ],
               [
                [
                 [
                  [
                   "CB Cooke"
                  ]
                 ],
                 "stumped",
                 "C Munro"
                ]
               ]
              ],
              [
               "TA Lammonby",
               "MM Ali",
               null,
               "JC Buttler",
               null,
               [
                0,
                0,
                0
               ],
               null
              ],
              [
               "TA Lammonby",
               "MM Ali",
               null,
               "JC Buttler",
               null,
               [
                0,
                0,
                0
               ],
               null
              ],
              [
               "TA Lammonby",
               "MM Ali",
               null,
               "JC Buttler",
               null,
               [
                0,
                0,
                0
               ],
               null
              ]
             ],
             8
            ],
            [
             [
              [
               "TA Lammonby",
               "MM Ali",
               null,
               "JC Buttler",
               null,
               [
                0,
                0,
                0
               ],
               null
              ],
              [
               "TA Lammonby",
               "MM Ali",
               null,
               "JC Buttler",
               null,
               [
                0,
                0,
                0
               ],
               null
              ],
              [
               "TA Lammonby",
               "MM Ali",
               null,
               "JC Buttler",
               null,
               [
                1,
                0,
                1
               ],
               null
              ],
              [
               "JC Buttler",
               "MM Ali",
               null,
               "TA Lammonby",
               null,
               [
                1,
                0,
                1
               ],
               null
              ],
              [
               "TA Lammonby",
               "MM Ali",
               null,
               "JC Buttler",
               null,
               [
                1,
                0,
                1
               ],
               null
              ]
             ],
             9
            ],
            [
             [
              [
               "TA Lammonby",
               "LS Livingstone",
               null,
               "JC Buttler",
               null,
               [
                1,
                0,
                1
               ],
               null
              ],
              [
               "JC Buttler",
               "LS Livingstone",
               null,
               "TA Lammonby",
               null,
               [
                4,
                0,
                4
               ],
               null
              ],
              [
               "JC Buttler",
               "LS Livingstone",
               null,
               "TA Lammonby",
               null,
               [
                1,
                0,
                1
               ],
               null
              ],
              [
               "TA Lammonby",
               "LS Livingstone",
               null,
               "JC Buttler",
               null,
               [
                4,
                0,
                4
               ],
               null
              ],
              [
               "TA Lammonby",
               "LS Livingstone",
               null,
               "JC Buttler",
               null,
               [
                0,
                0,
                0
               ],
               null
              ]
             ],
             10
            ],
            [
             [
              [
               "TA Lammonby",
               "Imran Tahir",
               null,
               "JC Buttler",
               null,
               [
                1,
                0,
                1
               ],
               null
              ],
              [
               "JC Buttler",
               "Imran Tahir",
               null,
               "TA Lammonby",
               null,
               [
                2,
                0,
                2
               ],
               null
              ],
              [
               "JC Buttler",
               "Imran Tahir",
               null,
               "TA Lammonby",
               null,
               [
                1,
                0,
                1
               ],
               null
              ],
              [
               "TA Lammonby",
               "Imran Tahir",
               null,
               "JC Buttler",
               null,
               [
                1,
                0,
                1
               ],
               null
              ],
              [
               "JC Buttler",
               "Imran Tahir",
               null,
               "TA Lammonby",
               null,
               [
                1,
                0,
                1
               ],
               null
              ]
             ],
             11
            ],
            [
             [
              [
               "JC Buttler",
               "MM Ali",
               null,
               "TA Lammonby",
               null,
               [
                1,
                0,
                1
               ],
               null
              ],
              [
               "TA Lammonby",
               "MM Ali",
               null,
               "JC Buttler",
               null,
               [
                1,
                0,
                1
               ],
               null
              ],
              [
               "JC Buttler",
               "MM Ali",
               null,
               "TA Lammonby",
               null,
               [
                0,
                0,
                0
               ],
               null
              ],
              [
               "JC Buttler",
               "MM Ali",
               null,
               "TA Lammonby",
               null,
               [
                0,
                0,
                0
               ],
               null
              ],
              [
               "JC Buttler",
               "MM Ali",
               null,
               "TA Lammonby",
               null,
               [
                0,
                0,
                0
               ],
               null
              ]
             ],
             12
            ],
            [
             [
              [
               "JC Buttler",
               "BAC Howell",
               null,
               "TA Lammonby",
               null,
               [
                0,
                0,
                0
               ],
               null
              ],
              [
               "JC Buttler",
               "BAC Howell",
               null,
               "TA Lammonby",
               null,
               [
                0,
                0,
                0
               ],
               null
              ],
              [
               "JC Buttler",
               "BAC Howell",
               null,
               "TA Lammonby",
               null,
               [
                1,
                0,
                1
               ],
               null
              ],
              [
               "TA Lammonby",
               "BAC Howell",
               null,
               "JC Buttler",
               null,
               [
                4,
                0,
                4
               ],
               null
              ],
              [
               "TA Lammonby",
               "BAC Howell",
               null,
               "JC Buttler",
               null,
               [
                2,
                0,
                2
               ],
               null
              ]
             ],
             13
            ],
            [
             [
              [
               "JC Buttler",
               "LS Livingstone",
               null,
               "TA Lammonby",
               null,
               [
                0,
                0,
                0
               ],
               [
                [
                 null,
                 "bowled",
                 "JC Buttler"
                ]
               ]
              ],
              [
               "CR Brathwaite",
               "LS Livingstone",
               null,
               "TA Lammonby",
               null,
               [
                0,
                0,
                0
               ],
               null
              ],
              [
               "CR Brathwaite",
               "LS Livingstone",
               null,
               "TA Lammonby",
               null,
               [
                4,
                0,
                4
               ],
               null
              ]
             ],
             14
            ]
           ],
           [
            [
             0.1,
             4.5,
             "mandatory"
            ]
           ],
           [
            20,
            88
           ],
           "Manchester Originals"
          ]
         ],
         [
          "2021-07-25",
          "1.1.0",
          2
         ]
        ]
       ],
       "datasetInfos": [],
       "dbfsResultPath": null,
       "isJsonSchema": true,
       "metadata": {},
       "overflow": false,
       "plotOptions": {
        "customPlotOptions": {},
        "displayType": "table",
        "pivotAggregation": null,
        "pivotColumns": null,
        "xColumns": null,
        "yColumns": null
       },
       "removedWidgets": [],
       "schema": [
        {
         "metadata": "{}",
         "name": "info",
         "type": "{\"type\":\"struct\",\"fields\":[{\"name\":\"balls_per_over\",\"type\":\"long\",\"nullable\":true,\"metadata\":{}},{\"name\":\"city\",\"type\":\"string\",\"nullable\":true,\"metadata\":{}},{\"name\":\"dates\",\"type\":{\"type\":\"array\",\"elementType\":\"string\",\"containsNull\":true},\"nullable\":true,\"metadata\":{}},{\"name\":\"event\",\"type\":{\"type\":\"struct\",\"fields\":[{\"name\":\"match_number\",\"type\":\"long\",\"nullable\":true,\"metadata\":{}},{\"name\":\"name\",\"type\":\"string\",\"nullable\":true,\"metadata\":{}}]},\"nullable\":true,\"metadata\":{}},{\"name\":\"gender\",\"type\":\"string\",\"nullable\":true,\"metadata\":{}},{\"name\":\"match_type\",\"type\":\"string\",\"nullable\":true,\"metadata\":{}},{\"name\":\"officials\",\"type\":{\"type\":\"struct\",\"fields\":[{\"name\":\"match_referees\",\"type\":{\"type\":\"array\",\"elementType\":\"string\",\"containsNull\":true},\"nullable\":true,\"metadata\":{}},{\"name\":\"reserve_umpires\",\"type\":{\"type\":\"array\",\"elementType\":\"string\",\"containsNull\":true},\"nullable\":true,\"metadata\":{}},{\"name\":\"tv_umpires\",\"type\":{\"type\":\"array\",\"elementType\":\"string\",\"containsNull\":true},\"nullable\":true,\"metadata\":{}},{\"name\":\"umpires\",\"type\":{\"type\":\"array\",\"elementType\":\"string\",\"containsNull\":true},\"nullable\":true,\"metadata\":{}}]},\"nullable\":true,\"metadata\":{}},{\"name\":\"outcome\",\"type\":{\"type\":\"struct\",\"fields\":[{\"name\":\"by\",\"type\":{\"type\":\"struct\",\"fields\":[{\"name\":\"wickets\",\"type\":\"long\",\"nullable\":true,\"metadata\":{}}]},\"nullable\":true,\"metadata\":{}},{\"name\":\"winner\",\"type\":\"string\",\"nullable\":true,\"metadata\":{}}]},\"nullable\":true,\"metadata\":{}},{\"name\":\"overs\",\"type\":\"long\",\"nullable\":true,\"metadata\":{}},{\"name\":\"player_of_match\",\"type\":{\"type\":\"array\",\"elementType\":\"string\",\"containsNull\":true},\"nullable\":true,\"metadata\":{}},{\"name\":\"players\",\"type\":{\"type\":\"struct\",\"fields\":[{\"name\":\"Birmingham Phoenix\",\"type\":{\"type\":\"array\",\"elementType\":\"string\",\"containsNull\":true},\"nullable\":true,\"metadata\":{}},{\"name\":\"Manchester Originals\",\"type\":{\"type\":\"array\",\"elementType\":\"string\",\"containsNull\":true},\"nullable\":true,\"metadata\":{}}]},\"nullable\":true,\"metadata\":{}},{\"name\":\"registry\",\"type\":{\"type\":\"struct\",\"fields\":[{\"name\":\"people\",\"type\":{\"type\":\"struct\",\"fields\":[{\"name\":\"AF Milne\",\"type\":\"string\",\"nullable\":true,\"metadata\":{}},{\"name\":\"AG Wharf\",\"type\":\"string\",\"nullable\":true,\"metadata\":{}},{\"name\":\"BAC Howell\",\"type\":\"string\",\"nullable\":true,\"metadata\":{}},{\"name\":\"C Munro\",\"type\":\"string\",\"nullable\":true,\"metadata\":{}},{\"name\":\"CB Cooke\",\"type\":\"string\",\"nullable\":true,\"metadata\":{}},{\"name\":\"CG Benjamin\",\"type\":\"string\",\"nullable\":true,\"metadata\":{}},{\"name\":\"CG Harrison\",\"type\":\"string\",\"nullable\":true,\"metadata\":{}},{\"name\":\"CR Brathwaite\",\"type\":\"string\",\"nullable\":true,\"metadata\":{}},{\"name\":\"DJ Bell-Drummond\",\"type\":\"string\",\"nullable\":true,\"metadata\":{}},{\"name\":\"FH Allen\",\"type\":\"string\",\"nullable\":true,\"metadata\":{}},{\"name\":\"FJ Klaassen\",\"type\":\"string\",\"nullable\":true,\"metadata\":{}},{\"name\":\"Imran Tahir\",\"type\":\"string\",\"nullable\":true,\"metadata\":{}},{\"name\":\"JC Buttler\",\"type\":\"string\",\"nullable\":true,\"metadata\":{}},{\"name\":\"JM Clarke\",\"type\":\"string\",\"nullable\":true,\"metadata\":{}},{\"name\":\"LS Livingstone\",\"type\":\"string\",\"nullable\":true,\"metadata\":{}},{\"name\":\"MM Ali\",\"type\":\"string\",\"nullable\":true,\"metadata\":{}},{\"name\":\"MW Parkinson\",\"type\":\"string\",\"nullable\":true,\"metadata\":{}},{\"name\":\"Miles Hammond\",\"type\":\"string\",\"nullable\":true,\"metadata\":{}},{\"name\":\"NA Mallender\",\"type\":\"string\",\"nullable\":true,\"metadata\":{}},{\"name\":\"NJ Llong\",\"type\":\"string\",\"nullable\":true,\"metadata\":{}},{\"name\":\"PD Salt\",\"type\":\"string\",\"nullable\":true,\"metadata\":{}},{\"name\":\"SJ Davis\",\"type\":\"string\",\"nullable\":true,\"metadata\":{}},{\"name\":\"SJ O'Shaughnessy\",\"type\":\"string\",\"nullable\":true,\"metadata\":{}},{\"name\":\"ST Finn\",\"type\":\"string\",\"nullable\":true,\"metadata\":{}},{\"name\":\"TA Lammonby\",\"type\":\"string\",\"nullable\":true,\"metadata\":{}},{\"name\":\"TG Helm\",\"type\":\"string\",\"nullable\":true,\"metadata\":{}},{\"name\":\"TW Hartley\",\"type\":\"string\",\"nullable\":true,\"metadata\":{}}]},\"nullable\":true,\"metadata\":{}}]},\"nullable\":true,\"metadata\":{}},{\"name\":\"season\",\"type\":\"string\",\"nullable\":true,\"metadata\":{}},{\"name\":\"team_type\",\"type\":\"string\",\"nullable\":true,\"metadata\":{}},{\"name\":\"teams\",\"type\":{\"type\":\"array\",\"elementType\":\"string\",\"containsNull\":true},\"nullable\":true,\"metadata\":{}},{\"name\":\"toss\",\"type\":{\"type\":\"struct\",\"fields\":[{\"name\":\"decision\",\"type\":\"string\",\"nullable\":true,\"metadata\":{}},{\"name\":\"winner\",\"type\":\"string\",\"nullable\":true,\"metadata\":{}}]},\"nullable\":true,\"metadata\":{}},{\"name\":\"venue\",\"type\":\"string\",\"nullable\":true,\"metadata\":{}}]}"
        },
        {
         "metadata": "{}",
         "name": "innings",
         "type": "{\"type\":\"array\",\"elementType\":{\"type\":\"struct\",\"fields\":[{\"name\":\"overs\",\"type\":{\"type\":\"array\",\"elementType\":{\"type\":\"struct\",\"fields\":[{\"name\":\"deliveries\",\"type\":{\"type\":\"array\",\"elementType\":{\"type\":\"struct\",\"fields\":[{\"name\":\"batter\",\"type\":\"string\",\"nullable\":true,\"metadata\":{}},{\"name\":\"bowler\",\"type\":\"string\",\"nullable\":true,\"metadata\":{}},{\"name\":\"extras\",\"type\":{\"type\":\"struct\",\"fields\":[{\"name\":\"byes\",\"type\":\"long\",\"nullable\":true,\"metadata\":{}},{\"name\":\"legbyes\",\"type\":\"long\",\"nullable\":true,\"metadata\":{}},{\"name\":\"noballs\",\"type\":\"long\",\"nullable\":true,\"metadata\":{}},{\"name\":\"wides\",\"type\":\"long\",\"nullable\":true,\"metadata\":{}}]},\"nullable\":true,\"metadata\":{}},{\"name\":\"non_striker\",\"type\":\"string\",\"nullable\":true,\"metadata\":{}},{\"name\":\"review\",\"type\":{\"type\":\"struct\",\"fields\":[{\"name\":\"batter\",\"type\":\"string\",\"nullable\":true,\"metadata\":{}},{\"name\":\"by\",\"type\":\"string\",\"nullable\":true,\"metadata\":{}},{\"name\":\"decision\",\"type\":\"string\",\"nullable\":true,\"metadata\":{}},{\"name\":\"umpire\",\"type\":\"string\",\"nullable\":true,\"metadata\":{}}]},\"nullable\":true,\"metadata\":{}},{\"name\":\"runs\",\"type\":{\"type\":\"struct\",\"fields\":[{\"name\":\"batter\",\"type\":\"long\",\"nullable\":true,\"metadata\":{}},{\"name\":\"extras\",\"type\":\"long\",\"nullable\":true,\"metadata\":{}},{\"name\":\"total\",\"type\":\"long\",\"nullable\":true,\"metadata\":{}}]},\"nullable\":true,\"metadata\":{}},{\"name\":\"wickets\",\"type\":{\"type\":\"array\",\"elementType\":{\"type\":\"struct\",\"fields\":[{\"name\":\"fielders\",\"type\":{\"type\":\"array\",\"elementType\":{\"type\":\"struct\",\"fields\":[{\"name\":\"name\",\"type\":\"string\",\"nullable\":true,\"metadata\":{}}]},\"containsNull\":true},\"nullable\":true,\"metadata\":{}},{\"name\":\"kind\",\"type\":\"string\",\"nullable\":true,\"metadata\":{}},{\"name\":\"player_out\",\"type\":\"string\",\"nullable\":true,\"metadata\":{}}]},\"containsNull\":true},\"nullable\":true,\"metadata\":{}}]},\"containsNull\":true},\"nullable\":true,\"metadata\":{}},{\"name\":\"over\",\"type\":\"long\",\"nullable\":true,\"metadata\":{}}]},\"containsNull\":true},\"nullable\":true,\"metadata\":{}},{\"name\":\"powerplays\",\"type\":{\"type\":\"array\",\"elementType\":{\"type\":\"struct\",\"fields\":[{\"name\":\"from\",\"type\":\"double\",\"nullable\":true,\"metadata\":{}},{\"name\":\"to\",\"type\":\"double\",\"nullable\":true,\"metadata\":{}},{\"name\":\"type\",\"type\":\"string\",\"nullable\":true,\"metadata\":{}}]},\"containsNull\":true},\"nullable\":true,\"metadata\":{}},{\"name\":\"target\",\"type\":{\"type\":\"struct\",\"fields\":[{\"name\":\"overs\",\"type\":\"long\",\"nullable\":true,\"metadata\":{}},{\"name\":\"runs\",\"type\":\"long\",\"nullable\":true,\"metadata\":{}}]},\"nullable\":true,\"metadata\":{}},{\"name\":\"team\",\"type\":\"string\",\"nullable\":true,\"metadata\":{}}]},\"containsNull\":true}"
        },
        {
         "metadata": "{}",
         "name": "meta",
         "type": "{\"type\":\"struct\",\"fields\":[{\"name\":\"created\",\"type\":\"string\",\"nullable\":true,\"metadata\":{}},{\"name\":\"data_version\",\"type\":\"string\",\"nullable\":true,\"metadata\":{}},{\"name\":\"revision\",\"type\":\"long\",\"nullable\":true,\"metadata\":{}}]}"
        }
       ],
       "type": "table"
      }
     },
     "output_type": "display_data"
    }
   ],
   "source": [
    "# Print the list of extracted files\n",
    "print(\"Extracted files:\")\n",
    "#print(extracted_files)\n",
    "for files in extracted_files:\n",
    "    if files.endswith('json'):\n",
    "        print(\"file://\" + download_dir + files)\n",
    "        df = spark.read.option(\"multiline\",\"true\").json(\"file://\"+download_dir + files)\n",
    "        df.cache()  # For caching\n",
    "        df.display()\n",
    "        df.unpersist()  # If caching was used\n",
    "        break"
   ]
  },
  {
   "cell_type": "code",
   "execution_count": 0,
   "metadata": {
    "application/vnd.databricks.v1+cell": {
     "cellMetadata": {
      "byteLimit": 2048000,
      "implicitDf": true,
      "rowLimit": 10000
     },
     "inputWidgets": {},
     "nuid": "2db0cc5f-4653-4293-8173-f1c12bc0b1d8",
     "showTitle": false,
     "title": ""
    }
   },
   "outputs": [
    {
     "output_type": "execute_result",
     "data": {
      "text/plain": [
       "[FileInfo(path='dbfs:/tmp/cricsheet/all_json.zip', name='all_json.zip', size=77145507, modificationTime=1712488926000)]"
      ]
     },
     "execution_count": 37,
     "metadata": {},
     "output_type": "execute_result"
    }
   ],
   "source": [
    "#%sh ls /dbfs/tmp/\n",
    "dbutils.fs.ls('/tmp/cricsheet/')"
   ]
  }
 ],
 "metadata": {
  "application/vnd.databricks.v1+notebook": {
   "dashboards": [],
   "language": "python",
   "notebookMetadata": {
    "mostRecentlyExecutedCommandWithImplicitDF": {
     "commandId": -1,
     "dataframes": [
      "_sqldf"
     ]
    },
    "pythonIndentUnit": 4
   },
   "notebookName": "Cricket Data",
   "widgets": {}
  }
 },
 "nbformat": 4,
 "nbformat_minor": 0
}
